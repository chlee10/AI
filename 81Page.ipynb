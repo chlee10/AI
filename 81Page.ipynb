{
  "nbformat": 4,
  "nbformat_minor": 0,
  "metadata": {
    "colab": {
      "name": "81Page.ipynb",
      "provenance": [],
      "toc_visible": true,
      "mount_file_id": "1EjSsHsbrK7o-Y9gHUp3wlNhp64CckcaF",
      "authorship_tag": "ABX9TyOaJiy5uniuRuAw8Mpf/NPE",
      "include_colab_link": true
    },
    "kernelspec": {
      "name": "python3",
      "display_name": "Python 3"
    },
    "accelerator": "GPU"
  },
  "cells": [
    {
      "cell_type": "markdown",
      "metadata": {
        "id": "view-in-github",
        "colab_type": "text"
      },
      "source": [
        "<a href=\"https://colab.research.google.com/github/chlee10/AI/blob/master/81Page.ipynb\" target=\"_parent\"><img src=\"https://colab.research.google.com/assets/colab-badge.svg\" alt=\"Open In Colab\"/></a>"
      ]
    },
    {
      "cell_type": "code",
      "metadata": {
        "id": "sZeqhxMNehqS",
        "colab_type": "code",
        "colab": {}
      },
      "source": [
        "!ls"
      ],
      "execution_count": 0,
      "outputs": []
    },
    {
      "cell_type": "code",
      "metadata": {
        "id": "nwX4xwfV6fkH",
        "colab_type": "code",
        "colab": {}
      },
      "source": [
        "import sys\n",
        "from gensim.corpora import WikiCorpus\n",
        "\n",
        "def make_corpus(in_f, out_f):\n",
        "\n",
        "    \"\"\"Convert Wikipedia xml dump file to text corpus\"\"\"\n",
        "\n",
        "    output = open(out_f, 'w',  -1, \"utf-8\")\n",
        "    wiki = WikiCorpus(in_f)\n",
        "\n",
        "    i = 0\n",
        "    for text in wiki.get_texts():\n",
        "        output.write(bytes(' '.join(text), 'utf-8').decode('utf-8') + '\\n')\n",
        "        i = i + 1\n",
        "        if (i % 10000 == 0):\n",
        "            print('Processed ' + str(i) + ' articles')\n",
        "    output.close()\n",
        "    print('Processing complete!')\n",
        "\n",
        "\n",
        "if __name__ == '__main__':\n",
        "\n",
        "    in_f = \"/notebooks/embedding/data/raw/kowiki-latest-pages-articles.xml.bz2\"\n",
        "    out_f = \"/notebooks/embedding/data/processed/processed_wiki_ko.txt\"\n",
        "    make_corpus(in_f, out_f)"
      ],
      "execution_count": 0,
      "outputs": []
    },
    {
      "cell_type": "code",
      "metadata": {
        "id": "9_bna3OqLH52",
        "colab_type": "code",
        "colab": {}
      },
      "source": [
        ""
      ],
      "execution_count": 0,
      "outputs": []
    }
  ]
}